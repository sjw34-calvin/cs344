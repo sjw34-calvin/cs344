{
 "cells": [
  {
   "cell_type": "heading",
   "metadata": {
    "collapsed": true
   },
   "level": 1,
   "source": [
    "Exercise 1"
   ]
  },
  {
   "cell_type": "code",
   "execution_count": 2,
   "metadata": {},
   "outputs": [
    {
     "name": "stdout",
     "output_type": "stream",
     "text": [
      "Introspection is one of those abilities that separates humans from machines or even other species for that matter. Introspection can be defined as the ability to examine conscious thoughts and feelings. It's like trying to teach ourselves a new skill such as learning a new language. Even without external feedback, we can kinda tell how we are doing. Introspection relies on prior experiences, we reward ourselves if we do well and penalize ourselves/work harder if we are incorrect. Similarly, I think that Introspection can be used in AI by implementing a loss and reward function. The program will learn to solve a task from a family of tasks that it is given. There can be a goal state and each time the program completes a subtask it can assign a weight to that subtask. From there based on the weights and the closer and more efficient the program is, it can adjust its parameters (kinda like we try different things/ways of learning when we are trying to learn something new). \n"
     ]
    }
   ],
   "source": [
    "print(\"Introspection is one of those abilities that separates humans from machines or even other species for that matter. Introspection can be defined as the ability to examine conscious thoughts and feelings. It's like trying to teach ourselves a new skill such as learning a new language. Even without external feedback, we can kinda tell how we are doing. Introspection relies on prior experiences, we reward ourselves if we do well and penalize ourselves/work harder if we are incorrect. Similarly, I think that Introspection can be used in AI by implementing a loss and reward function. The program will learn to solve a task from a family of tasks that it is given. There can be a goal state and each time the program completes a subtask it can assign a weight to that subtask. From there based on the weights and the closer and more efficient the program is, it can adjust its parameters (kinda like we try different things/ways of learning when we are trying to learn something new). \")"
   ]
  },
  {
   "cell_type": "heading",
   "metadata": {},
   "level": 1,
   "source": [
    "Exercise 2"
   ]
  },
  {
   "cell_type": "code",
   "execution_count": 3,
   "metadata": {},
   "outputs": [
    {
     "name": "stdout",
     "output_type": "stream",
     "text": [
      "[0, 1, 2, 3, 4, 5, 6, 7, 8, 9]\n{(5, 9): 5, (4, 7): 8, (1, 3): 7, (4, 8): 3, (5, 6): 5, (2, 8): 8, (6, 9): 2, (0, 7): 4, (4, 6): 2, (8, 9): 3, (1, 6): 1, (3, 7): 1, (2, 5): 8, (0, 3): 9, (5, 8): 9, (1, 2): 8, (6, 7): 3, (2, 9): 9, (1, 5): 1, (3, 6): 2, (0, 4): 6, (7, 9): 6, (0, 1): 4, (2, 6): 8, (4, 5): 2, (1, 4): 3, (3, 9): 5, (2, 3): 1, (1, 9): 1, (4, 9): 2, (0, 8): 5, (3, 5): 7, (2, 7): 9, (6, 8): 1, (3, 4): 1, (5, 7): 8, (2, 4): 2, (3, 8): 4, (0, 6): 3, (1, 8): 3, (1, 7): 4, (0, 9): 2, (0, 5): 2, (7, 8): 4, (0, 2): 3}\nHill-climbing solution       x: [0, 5, 4, 2, 3, 7, 8, 6, 1, 9]\tvalue: 17\nSimulated annealing solution x: [0, 8, 5, 7, 3, 2, 6, 9, 1, 4]\tvalue: 44\n"
     ]
    }
   ],
   "source": [
    "\"\"\"\n",
    "This module implements a local search formulation of TSP problem\n",
    "This solution uses AIMA hill-climbing and simulated annealing implementations to solve it\n",
    "\n",
    "@author: sameer mall\n",
    "@version 20feb2019\n",
    "\"\"\"\n",
    "from tools.aima.search import Problem, hill_climbing, simulated_annealing, \\\n",
    "    exp_schedule, genetic_search\n",
    "from random import randrange\n",
    "import time\n",
    "import math\n",
    "\n",
    "class TSP(Problem):\n",
    "    \"\"\"\n",
    "       State: x value for the sine function variant f(x)\n",
    "       Move: a new x value delta steps from the current x (in both directions)\n",
    "       \"\"\"\n",
    "\n",
    "    def __init__(self, initial, distances):\n",
    "        self.initial = initial\n",
    "        self.distances = distances\n",
    "        # self.num_swaps = num_swaps\n",
    "        # self.num_cities = num_cities\n",
    "\n",
    "    def actions(self, state):\n",
    "        actions = []\n",
    "\n",
    "        for a in range(1, len(self.initial)):\n",
    "            for b in [x for x in range(1, len(self.initial)) if x != state[a]]:\n",
    "                actions.append([a, b])\n",
    "        return actions\n",
    "\n",
    "    def result(self, state, move):\n",
    "\n",
    "        new_state = state[:]\n",
    "        a_index = state.index(move[0])\n",
    "        b_index = state.index(move[1])\n",
    "\n",
    "        new_state[a_index] = move[1]\n",
    "        new_state[b_index] = move[0]\n",
    "        return new_state\n",
    "\n",
    "    def value(self, path):\n",
    "        total_distance = 0\n",
    "\n",
    "        for i in range(len(self.initial) - 1):\n",
    "            a = path[i]\n",
    "            b = path[i+1]\n",
    "            if a < b:\n",
    "                #because the dictionary stores smallest to largest\n",
    "                total_distance = total_distance + distances[(a, b)]\n",
    "            else:\n",
    "                total_distance = total_distance + distances[(b, a)]\n",
    "        # return total_distance\n",
    "\n",
    "        total_distance_val = total_distance + distances[(0, path[len(self.initial) - 1])]\n",
    "        total_dist = total_distance_val * -1\n",
    "        return total_dist\n",
    "\n",
    "\n",
    "if __name__ == '__main__':\n",
    "    num_cities = 10\n",
    "    maximum_distance = 10\n",
    "    distances = {}\n",
    "    num_swaps = 8\n",
    "    initial = []\n",
    "\n",
    "    for a in range(num_cities):\n",
    "        initial.append(a)\n",
    "\n",
    "        for b in range(a + 1, num_cities):\n",
    "            distances.update({(a, b): randrange(1, maximum_distance)})\n",
    "\n",
    "    print(initial)\n",
    "    print(distances)\n",
    "\n",
    "    p = TSP(initial, distances)\n",
    "\n",
    "    hill_solution = hill_climbing(p)\n",
    "    print('Hill-climbing solution       x: ' + str(hill_solution)\n",
    "          + '\\tvalue: ' + str(p.value(hill_solution) * -1)\n",
    "          )\n",
    "\n",
    "    annealing_solution = simulated_annealing(p)\n",
    "    print('Simulated annealing solution x: ' + str(annealing_solution)\n",
    "          + '\\tvalue: ' + str(p.value(annealing_solution) * -1)\n",
    "          )\n"
   ]
  },
  {
   "cell_type": "markdown",
   "metadata": {},
   "source": [
    "In the "
   ]
  },
  {
   "cell_type": "heading",
   "metadata": {},
   "level": 1,
   "source": [
    "Exercise 3"
   ]
  },
  {
   "cell_type": "code",
   "execution_count": 4,
   "metadata": {},
   "outputs": [
    {
     "name": "stdout",
     "output_type": "stream",
     "text": [
      "Answer from back_tracking algorithm is: {'cs212': 'plantinga 900 sb382', 'cs344': 'vanderlinden 1130 sb382', 'cs112': 'adams 1130 nh253', 'cs232': 'adams 1030 nh253', 'cs214': 'adams 900 nh253', 'cs108': 'norman 1030 sb382'}\n"
     ]
    }
   ],
   "source": [
    "'''\n",
    "Run the various CSP solvers on the course-scheduling domain problem.\n",
    "These calls are mostly copied/adapted from AIMA Python.\n",
    "\n",
    "@author: sameer mall\n",
    "@version 21feb2019\n",
    "'''\n",
    "\n",
    "\n",
    "import time\n",
    "\n",
    "from csp import parse_neighbors, min_conflicts, backtracking_search, CSP, AC3\n",
    "from search import depth_first_graph_search\n",
    "\n",
    "\"\"\"Function that makes sure that the domains are valid i.e. each professor is only teaching the\n",
    "the course that they are supposed to be teaching\"\"\"\n",
    "def valid_domains(variable, neighbors, time, classrooms):\n",
    "    domain_list = []\n",
    "    for f in neighbors[variable]:\n",
    "        for t in time:\n",
    "            for c in classrooms:\n",
    "                domain_list.append(f + \" \" + t + \" \" + c)\n",
    "    return domain_list\n",
    "\n",
    "\n",
    "def course_scheduling():\n",
    "    domains = {}\n",
    "    variables = 'cs108 cs112 cs212 cs214 cs232 cs344'.split()\n",
    "    Faculty = 'plantinga adams vanderlinden norman'.split()\n",
    "    time = '900 1030 1130 100 200'.split()\n",
    "    classrooms = 'nh253 sb382'.split()\n",
    "\n",
    "    neighbors = parse_neighbors(\"\"\"cs108: norman;\n",
    "                    cs112: adams; cs212: plantinga; cs214: adams;\n",
    "                    cs232: adams; cs344: vanderlinden\"\"\", variables)\n",
    "\n",
    "    for var in variables:\n",
    "        domains[var] = valid_domains(var, neighbors, time, classrooms)\n",
    "\n",
    "    neighbors = {}\n",
    "\n",
    "    for var in variables:\n",
    "        neighbors[var] = []\n",
    "    for A in variables:\n",
    "        for B in variables:\n",
    "            if A != B:\n",
    "                if B not in neighbors[A]:\n",
    "                    neighbors[A].append(B)\n",
    "                if A not in neighbors[B]:\n",
    "                    neighbors[B].append(A)\n",
    "                    \n",
    "    \"\"\"This will checks that all the constraints are satisfied\"\"\"\n",
    "    def course_scheduling_constraint(A, a, B, b, recurse=0):\n",
    "        if a.split()[0] == b.split()[0] and a.split()[1] == b.split()[1]:\n",
    "            return False\n",
    "\n",
    "        if a.split()[1] == b.split()[1] and a.split()[2] == b.split()[2]:\n",
    "            return False\n",
    "\n",
    "        if recurse == 0:\n",
    "            return course_scheduling_constraint(B, b, A, a, 1)\n",
    "\n",
    "        return True\n",
    "\n",
    "    return CSP(variables, domains, neighbors, course_scheduling_constraint)\n",
    "\n",
    "\n",
    "if __name__ == '__main__':\n",
    "\n",
    "    backtracking_res = backtracking_search(course_scheduling())\n",
    "\n",
    "    print(\"Answer from back_tracking algorithm is: \" + str(backtracking_res))\n",
    "\n",
    "\n",
    "\n",
    "\n"
   ]
  },
  {
   "cell_type": "markdown",
   "metadata": {},
   "source": [
    "For the course scheduling problem backtracking seemed to work best. AC3 and min-conflicts does not even give us a solution. This is because back tracking looks at paths and as soon as it finds an invalid path it cuts it off as possible solution, which is quite helpful for the course scheduler. "
   ]
  },
  {
   "cell_type": "code",
   "execution_count": null,
   "metadata": {},
   "outputs": [],
   "source": []
  }
 ],
 "metadata": {
  "kernelspec": {
   "display_name": "Python 2",
   "language": "python",
   "name": "python2"
  },
  "language_info": {
   "codemirror_mode": {
    "name": "ipython",
    "version": 2
   },
   "file_extension": ".py",
   "mimetype": "text/x-python",
   "name": "python",
   "nbconvert_exporter": "python",
   "pygments_lexer": "ipython2",
   "version": "2.7.6"
  }
 },
 "nbformat": 4,
 "nbformat_minor": 0
}
