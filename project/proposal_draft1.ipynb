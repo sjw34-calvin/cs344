{
 "cells": [
  {
   "cell_type": "markdown",
   "metadata": {
    "collapsed": true
   },
   "source": [
    "# Project Proposal Draft 1"
   ]
  },
  {
   "cell_type": "markdown",
   "metadata": {},
   "source": [
    "Deep neural networks and deep learning have become really popular in the past few years. It has significantly improved the state of the art for many problems that machine learning and AI community has faced for many years. Deep learning is used in many different aspects of technology such as speech to text conversion, language translation (i.e. google translate), automated driving etc. Similarly, I also wanted to pursue a final project that would explore deep neural networks.\n",
    "\n",
    "I am a visual learner and I was very intrigued by the google image classification lab we did a while back. For my final project I am going to build a CNN model using the Keras API and train it to recognize flower images (inspired by Google’s image classification course). For this image classification project I will be using the following data set: https://www.kaggle.com/alxmamaev/flowers-recognition.\n",
    "\n",
    "The above data set contains 4242 images of flowers. The images are divided into five classes: chamomile, tulip, rose, sunflower, and dandelion. In the fashion_mnist data lab and other labs I’ve done; I’ve been able to achieve around ~91% accuracy. My goal for this project is to a build a better convnet than the one seen in class and to achieve an accuracy of above 95%. "
   ]
  },
  {
   "cell_type": "code",
   "execution_count": null,
   "metadata": {},
   "outputs": [],
   "source": []
  }
 ],
 "metadata": {
  "kernelspec": {
   "display_name": "Python 3",
   "language": "python",
   "name": "python3"
  },
  "language_info": {
   "codemirror_mode": {
    "name": "ipython",
    "version": 3
   },
   "file_extension": ".py",
   "mimetype": "text/x-python",
   "name": "python",
   "nbconvert_exporter": "python",
   "pygments_lexer": "ipython3",
   "version": "3.5.2"
  }
 },
 "nbformat": 4,
 "nbformat_minor": 1
}
