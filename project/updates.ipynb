{
 "cells": [
  {
   "cell_type": "markdown",
   "metadata": {
    "id": "ythVLOs-wgut",
    "colab_type": "text"
   },
   "source": [
    "# Updates Made Since Walkthrough"
   ]
  },
  {
   "cell_type": "markdown",
   "metadata": {
    "id": "1WComaSkwqd_",
    "colab_type": "text"
   },
   "source": [
    "Since the walkthrough,  I minimized the size of my network. I reduced it from 4 layers to 3 layers. I also reduced the number of nodes from 96 to to 32 each. I then realized that the network was giving a lower validation accuracy than what I was able to achieve before. Run time did decrease a little bit, but I thought there isn't much point in achieving a lower training time at the cost of accuracy. So I changed back to my old network which had 4 layers but I trained the model using a lower step rate and ran it for 20 epochs instead of 30.\n",
    "The biggest change I made to project since is that I was able to implement data augmentation. This is where I noticed the largest improvement in the model in terms of overfitting. I have talked about this extensively in my report. "
   ]
  }
 ],
 "metadata": {
  "colab": {
   "name": "updates.ipynb",
   "version": "0.3.2",
   "provenance": [],
   "collapsed_sections": []
  },
  "kernelspec": {
   "name": "python3",
   "display_name": "Python 3"
  }
 },
 "nbformat": 4,
 "nbformat_minor": 0
}
