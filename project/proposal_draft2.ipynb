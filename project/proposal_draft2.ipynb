{
 "cells": [
  {
   "cell_type": "markdown",
   "metadata": {
    "collapsed": true
   },
   "source": [
    "# Project Draft Proposal 2"
   ]
  },
  {
   "cell_type": "markdown",
   "metadata": {},
   "source": [
    "## Vision"
   ]
  },
  {
   "cell_type": "markdown",
   "metadata": {},
   "source": [
    "Deep neural networks and deep learning have become really popular in the past few years. It has significantly improved the state of the art for many problems that machine learning and AI community has faced for many years. Deep learning is used in many different aspects of technology such as speech to text conversion, language translation (i.e. google translate), automated driving etc. Similarly, I also wanted to pursue a final project that would explore deep neural networks.\n",
    "\n",
    "I am a visual learner and I was very intrigued by the google image classification lab I did in class. For my final project I am going to build a CNN model using the Keras API and train it to recognize flower images (inspired by Google’s image classification course). For this image classification project I will be using the following data set: https://www.kaggle.com/alxmamaev/flowers-recognition.\n",
    "\n",
    "By working on this project, I hope to further enhance my understand of CNN models. The possibilities of using and implementing CNN’s are endless, so I feel like this project is going to be my entry project into the AI world. I have always been interested in how facial recognition works and why it is so secure. Apple on their newer phones and tablets has stopped using fingerprint ID and instead now only uses face ID. I hope that through building an application that can recognize flower images I will be able to somewhat see what goes on behind the scenes of popular face recognition systems"
   ]
  },
  {
   "cell_type": "markdown",
   "metadata": {},
   "source": [
    "## Background"
   ]
  },
  {
   "cell_type": "markdown",
   "metadata": {},
   "source": [
    "The data set that I will be using contains 4242 images of flowers. The images are further divided up into five classes: chamomile, tulip, rose, sunflower, and dandelion. According to Chollet chapter 5 (https://github.com/fchollet/deep-learning-with-python-notebooks) this is a small dataset. The labs I have done in class dealt with the MNIST data set which is the most common data set used for image classification and is easily accessible through TensorFlow and Keras as they allow us to directly download from their API. MNIST data sets are generally also pre-sorted into training and testing test images.\n",
    "\n",
    "I will have to process and sort the data myself into training, testing, and validation sets and train the data from scratch. I will also need to rescale the images because Keras likes I will be using Matplot lib (lab 8) to plot the accuracy and loss over the training and testing data."
   ]
  },
  {
   "cell_type": "markdown",
   "metadata": {},
   "source": [
    "## Implementation"
   ]
  },
  {
   "cell_type": "markdown",
   "metadata": {},
   "source": [
    "My plan is to first get a simple non-regularized CNN working. From there, as Chollet suggests use data augmentation and dropout (lab 9) to prevent overfitting and improve the\n",
    "\n",
    "accuracy of my model. I wish to further enhance the accuracy of my model by using fine-tuning which a lot of articles mention including this one: https://towardsdatascience.com/transfer-learning-from-pre-trained-models-f2393f124751"
   ]
  },
  {
   "cell_type": "markdown",
   "metadata": {},
   "source": [
    "## Results "
   ]
  },
  {
   "cell_type": "markdown",
   "metadata": {},
   "source": [
    "Haven’t tested anything yet. Will have something working hopefully over the weekend. I am not expecting the results to be that great the first time around because my initial goal is to just get a simple CNN running. I am expecting an accuracy of roughly 70% for the first go around. "
   ]
  },
  {
   "cell_type": "markdown",
   "metadata": {},
   "source": [
    "## Implications"
   ]
  },
  {
   "cell_type": "markdown",
   "metadata": {},
   "source": [
    "Not sure what is meant by this question? Should I be talking about the ethical implementation of AI? "
   ]
  },
  {
   "cell_type": "code",
   "execution_count": null,
   "metadata": {},
   "outputs": [],
   "source": []
  }
 ],
 "metadata": {
  "kernelspec": {
   "display_name": "Python 3",
   "language": "python",
   "name": "python3"
  },
  "language_info": {
   "codemirror_mode": {
    "name": "ipython",
    "version": 3
   },
   "file_extension": ".py",
   "mimetype": "text/x-python",
   "name": "python",
   "nbconvert_exporter": "python",
   "pygments_lexer": "ipython3",
   "version": "3.5.2"
  }
 },
 "nbformat": 4,
 "nbformat_minor": 1
}
